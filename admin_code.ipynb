{
 "cells": [
  {
   "cell_type": "code",
   "execution_count": 1,
   "id": "c98b32d9-5454-4d0e-9db3-f8ce97687820",
   "metadata": {},
   "outputs": [
    {
     "name": "stdout",
     "output_type": "stream",
     "text": [
      "Requirement already satisfied: mysql-connector-python in c:\\users\\sahit\\anaconda3\\envs\\cyclenet\\lib\\site-packages (9.2.0)\n",
      "Note: you may need to restart the kernel to use updated packages.\n"
     ]
    }
   ],
   "source": [
    "#pip install mysql-connector-python"
   ]
  },
  {
   "cell_type": "code",
   "execution_count": 2,
   "id": "bc67233c-f473-4dc8-ad2a-c842473b07ed",
   "metadata": {},
   "outputs": [
    {
     "name": "stdout",
     "output_type": "stream",
     "text": [
      "Admin admin added successfully!\n"
     ]
    }
   ],
   "source": [
    "import mysql.connector\n",
    "import bcrypt\n",
    "\n",
    "# MySQL connection details\n",
    "conn = mysql.connector.connect(\n",
    "    host=\"localhost\",\n",
    "    user=\"root\",\n",
    "    password=\"root\",\n",
    "    database=\"cyclenet\"\n",
    ")\n",
    "\n",
    "try:\n",
    "    # New admin details\n",
    "    username = \"admin\"\n",
    "    admin_password = \"admin\"\n",
    "    role = \"admin\"\n",
    "\n",
    "    # Hash the password\n",
    "    hashed_password = bcrypt.hashpw(admin_password.encode('utf-8'), bcrypt.gensalt()).decode('utf-8')\n",
    "\n",
    "    # Insert the admin record\n",
    "    cursor = conn.cursor()\n",
    "    query = \"\"\"\n",
    "    INSERT INTO admin (username, password, role, created_at)\n",
    "    VALUES (%s, %s, %s, NOW());\n",
    "    \"\"\"\n",
    "    cursor.execute(query, (username, hashed_password, role))\n",
    "    conn.commit()\n",
    "\n",
    "    print(f\"Admin {username} added successfully!\")\n",
    "\n",
    "except Exception as e:\n",
    "    print(f\"Error: {str(e)}\")\n",
    "finally:\n",
    "    conn.close()\n"
   ]
  },
  {
   "cell_type": "code",
   "execution_count": null,
   "id": "5da739bd-a7c6-47c1-adb0-473cdde0b98d",
   "metadata": {},
   "outputs": [],
   "source": []
  }
 ],
 "metadata": {
  "kernelspec": {
   "display_name": "Python 3 (ipykernel)",
   "language": "python",
   "name": "python3"
  },
  "language_info": {
   "codemirror_mode": {
    "name": "ipython",
    "version": 3
   },
   "file_extension": ".py",
   "mimetype": "text/x-python",
   "name": "python",
   "nbconvert_exporter": "python",
   "pygments_lexer": "ipython3",
   "version": "3.10.16"
  }
 },
 "nbformat": 4,
 "nbformat_minor": 5
}
